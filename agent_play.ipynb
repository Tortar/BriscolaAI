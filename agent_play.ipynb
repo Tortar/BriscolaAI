{
 "cells": [
  {
   "cell_type": "code",
   "execution_count": 1,
   "id": "82d622be-8172-4f65-83d7-4b13c9a685d7",
   "metadata": {},
   "outputs": [],
   "source": [
    "import random\n",
    "import time\n",
    "import torch\n",
    "import numpy as np\n",
    "import matplotlib.pyplot as plt\n",
    "import rlcard\n",
    "from rlcard.envs.registration import register, make\n",
    "from IPython.display import clear_output\n",
    "from IPython.display import display, HTML\n",
    "\n",
    "from briscolaAI.briscola import BriscolaEnv\n",
    "from briscolaAI.game import BriscolaGame\n",
    "from briscolaAI.agent import BriscolaRuleAgent\n",
    "from briscolaAI.human import HumanAgent\n",
    "from briscolaAI.dqn_agent import DQNAgent\n",
    "from briscolaAI.load_image import image"
   ]
  },
  {
   "cell_type": "code",
   "execution_count": 2,
   "id": "46477160-29be-4378-bc14-3d242deaee03",
   "metadata": {},
   "outputs": [],
   "source": [
    "model = torch.load(\"./models/checkpoint_dqn_episode_94000.pt\") "
   ]
  },
  {
   "cell_type": "code",
   "execution_count": 3,
   "id": "6b67dda5-c5ff-4fec-9c90-a736cf60fcfa",
   "metadata": {},
   "outputs": [
    {
     "name": "stdout",
     "output_type": "stream",
     "text": [
      "\n",
      "INFO - Restoring model from checkpoint...\n"
     ]
    }
   ],
   "source": [
    "agent = DQNAgent.from_checkpoint(model)"
   ]
  },
  {
   "cell_type": "code",
   "execution_count": 4,
   "id": "e8f62a6b-b71a-4196-91b5-12acd5779b52",
   "metadata": {},
   "outputs": [],
   "source": [
    "def softmax(x):\n",
    "    e_x = np.exp(x - np.max(x))\n",
    "    return e_x / e_x.sum()\n",
    "    \n",
    "def rl_based_action(player, env, state):\n",
    "    action_idx = player.action_if_win(env.game)\n",
    "    if action_idx != None:\n",
    "        action = player.hand.index(action_idx)\n",
    "        would_be_winning = True\n",
    "    else:\n",
    "        Qvalues = softmax(player.predict(state))\n",
    "        if np.max(Qvalues) >= 0.666 or len(env.game.dealer.deck) >= 10:\n",
    "            action = np.argmax(Qvalues)\n",
    "        else:\n",
    "            action = random.choices(range(len(Qvalues)), Qvalues, k=1)[0]        \n",
    "        would_be_winning = False\n",
    "    return action, would_be_winning\n",
    "\n",
    "def random_action(player, env):\n",
    "    return player.hand.index(player.random_card())\n",
    "    \n",
    "def rule_based_action(player, env, epsilon = 0.0):\n",
    "    return player.hand.index(player.rule_card(env.game, epsilon))\n",
    "\n",
    "def human_action(player, env):\n",
    "    return player.throw_card()\n",
    "\n",
    "def run_eval_games(env, action_func, n, print_game = False):\n",
    "    game_results = {\"win\": 0, \"odds\": 0, \"loss\": 0}\n",
    "    points_results = []\n",
    "    rule_not_learned = 0\n",
    "    for _ in range(n):\n",
    "        if print_game: print(\"\\nNew Game\\n\")\n",
    "        state, player_id = env.reset()\n",
    "        if print_game: print(f\"Briscola is {env.game.judger.briscola}\\n\")\n",
    "        agent_id = env.game.agent_id\n",
    "        would_win_times = 0\n",
    "        i = 0\n",
    "        while True:\n",
    "            player = env.game.players[player_id]\n",
    "            if player_id == agent_id:\n",
    "                action, would_win = rl_based_action(player, env, state)\n",
    "                if print_game: print(f\"AI plays:\")\n",
    "                display(HTML(f\"\"\"\n",
    "        \t\t\t<div class=\"row\">\n",
    "        \t\t\t\t\t<img src={image(str(player.hand[action]))} style=\"width:10%\"> </img>\n",
    "        \t\t\t</div>\n",
    "        \t\t\t\"\"\"))\n",
    "                would_win_times += would_win\n",
    "            else:\n",
    "                action = action_func(player, env)\n",
    "                #if print_game: print(f\"Human plays: {image(str(player.hand[action]))}\\n\")\n",
    "            i += 1\n",
    "            if i % 2 == 0:\n",
    "                time.sleep(2)\n",
    "                clear_output(wait=False)\n",
    "                time.sleep(0.1)\n",
    "                print(f\"Briscola is {env.game.judger.briscola}\\n\")\n",
    "            next_state, player_id = env.step(action)\n",
    "            if player_id is None: break\n",
    "            state = next_state \n",
    "        winner = env.game.winner\n",
    "        points = env.game.judger.compute_points(env.game.players[env.game.agent_id].pile)\n",
    "        other_points = env.game.judger.compute_points(env.game.players[(env.game.agent_id - 1) % 2].pile)\n",
    "        if print_game:\n",
    "            print(f\"AI points: {points}\")\n",
    "            print(f\"Human points: {other_points}\\n\")\n",
    "            print(f\"\\nWinner is {'AI' if points > 60 else ('None' if points == 60 else 'Human')}\")\n",
    "        rule_not_learned += points <= 60 and would_win_times >= 1\n",
    "        points_results.append(points)\n",
    "        \n",
    "        result_k = \"win\" if winner == (agent_id,) else (\"odds\" if len(winner) == 2 else \"loss\")\n",
    "        game_results[result_k] += 1\n",
    "    print(rule_not_learned)\n",
    "    return game_results, points_results\n",
    "\n",
    "def play_agent(env):\n",
    "    human_results, human_points_results = run_eval_games(env, human_action, 10000,  print_game = True)\n",
    "    print_results(human_results, \"human\")\n",
    "    return human_points_results\n",
    "\n",
    "def print_results(results, player_type):\n",
    "\tstr_results = \" \".join(f\"{k}: {results[k]}\" for k in results)\n",
    "\tprint(f\"agent vs. {player_type} -> {str_results}\")"
   ]
  },
  {
   "cell_type": "code",
   "execution_count": null,
   "id": "2882ad72-ad26-4f83-b624-df73c5a42cc2",
   "metadata": {},
   "outputs": [
    {
     "name": "stdout",
     "output_type": "stream",
     "text": [
      "Briscola is 7Coins\n",
      "\n",
      "AI points: 96\n",
      "Human points: 24\n",
      "\n",
      "\n",
      "Winner is AI\n",
      "\n",
      "New Game\n",
      "\n",
      "Briscola is 6Batons\n",
      "\n",
      "Choose a card:\n"
     ]
    },
    {
     "data": {
      "text/html": [
       "\n",
       "\t\t\t<div class=\"row\">\n",
       "\t\t\t\t\t<img src=./briscola_cards/9_spade.png style=\"width:10%\"> </img>\n",
       "\t\t\t\t\t<img src=./briscola_cards/5_bastoni.png style=\"width:10%\"> </img>\n",
       "\t\t\t\t\t<img src=./briscola_cards/4_spade.png style=\"width:10%\"> </img>\n",
       "\t\t\t</div>\n",
       "\t\t\t"
      ],
      "text/plain": [
       "<IPython.core.display.HTML object>"
      ]
     },
     "metadata": {},
     "output_type": "display_data"
    }
   ],
   "source": [
    "try:\n",
    "\tregister(\n",
    "    \tenv_id='briscola',\n",
    "    \tentry_point='briscolaAI.briscola:BriscolaEnv',\n",
    "\t)\n",
    "except ValueError:\n",
    "\tpass\n",
    "\n",
    "config = {\n",
    "\t\"players\": [\n",
    "\t\tagent, \n",
    "\t\tHumanAgent(1, np.random)\n",
    "\t]\n",
    "}\n",
    "\n",
    "env = make('briscola', config = config)\n",
    "\n",
    "play_agent(env)"
   ]
  },
  {
   "cell_type": "code",
   "execution_count": null,
   "id": "fa240ff7-6969-4878-820c-3b9955c23a0a",
   "metadata": {},
   "outputs": [],
   "source": []
  }
 ],
 "metadata": {
  "kernelspec": {
   "display_name": "Python 3 (ipykernel)",
   "language": "python",
   "name": "python3"
  },
  "language_info": {
   "codemirror_mode": {
    "name": "ipython",
    "version": 3
   },
   "file_extension": ".py",
   "mimetype": "text/x-python",
   "name": "python",
   "nbconvert_exporter": "python",
   "pygments_lexer": "ipython3",
   "version": "3.10.12"
  }
 },
 "nbformat": 4,
 "nbformat_minor": 5
}
